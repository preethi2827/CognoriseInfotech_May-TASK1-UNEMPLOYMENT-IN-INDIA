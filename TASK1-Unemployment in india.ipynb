{
  "metadata": {
    "kernelspec": {
      "name": "python",
      "display_name": "Python (Pyodide)",
      "language": "python"
    },
    "language_info": {
      "codemirror_mode": {
        "name": "python",
        "version": 3
      },
      "file_extension": ".py",
      "mimetype": "text/x-python",
      "name": "python",
      "nbconvert_exporter": "python",
      "pygments_lexer": "ipython3",
      "version": "3.8"
    }
  },
  "nbformat_minor": 4,
  "nbformat": 4,
  "cells": [
    {
      "cell_type": "code",
      "source": "#problem statement \n#Unemployment is measured by the unemployment rate which is the number of people who are unemployed as a percentage of the total labourforce.\n#We have seen a sharp increase in the unemployment rate during Covid-19,\n#so analyzing the unemployment rate can be a good data science project.",
      "metadata": {
        "trusted": true
      },
      "outputs": [],
      "execution_count": 1
    },
    {
      "cell_type": "code",
      "source": "#Filtering the warnings\nimport warnings\nwarnings.filterwarnings(\"ignore\")",
      "metadata": {
        "trusted": true
      },
      "outputs": [],
      "execution_count": 2
    },
    {
      "cell_type": "code",
      "source": "# Importing all the necessary libraries\nimport numpy as np\nimport pandas as pd\nimport matplotlib.pyplot as plt\nimport datetime as dt\n%matplotlib inline",
      "metadata": {
        "trusted": true
      },
      "outputs": [],
      "execution_count": null
    },
    {
      "cell_type": "code",
      "source": "#Reading the data set \ndf = pd.read_csv(\"Unemployment in India.csv\")",
      "metadata": {
        "trusted": true
      },
      "outputs": [],
      "execution_count": 7
    },
    {
      "cell_type": "code",
      "source": "#Seeing the first five rows\ndf.head()",
      "metadata": {
        "trusted": true
      },
      "outputs": [
        {
          "execution_count": 8,
          "output_type": "execute_result",
          "data": {
            "text/plain": "           Region         Date  Frequency   Estimated Unemployment Rate (%)  \\\n0  Andhra Pradesh   31-05-2019    Monthly                              3.65   \n1  Andhra Pradesh   30-06-2019    Monthly                              3.05   \n2  Andhra Pradesh   31-07-2019    Monthly                              3.75   \n3  Andhra Pradesh   31-08-2019    Monthly                              3.32   \n4  Andhra Pradesh   30-09-2019    Monthly                              5.17   \n\n    Estimated Employed   Estimated Labour Participation Rate (%)   Area  \n0           11999139.0                                     43.24  Rural  \n1           11755881.0                                     42.05  Rural  \n2           12086707.0                                     43.50  Rural  \n3           12285693.0                                     43.97  Rural  \n4           12256762.0                                     44.68  Rural  ",
            "text/html": "<div>\n<style scoped>\n    .dataframe tbody tr th:only-of-type {\n        vertical-align: middle;\n    }\n\n    .dataframe tbody tr th {\n        vertical-align: top;\n    }\n\n    .dataframe thead th {\n        text-align: right;\n    }\n</style>\n<table border=\"1\" class=\"dataframe\">\n  <thead>\n    <tr style=\"text-align: right;\">\n      <th></th>\n      <th>Region</th>\n      <th>Date</th>\n      <th>Frequency</th>\n      <th>Estimated Unemployment Rate (%)</th>\n      <th>Estimated Employed</th>\n      <th>Estimated Labour Participation Rate (%)</th>\n      <th>Area</th>\n    </tr>\n  </thead>\n  <tbody>\n    <tr>\n      <th>0</th>\n      <td>Andhra Pradesh</td>\n      <td>31-05-2019</td>\n      <td>Monthly</td>\n      <td>3.65</td>\n      <td>11999139.0</td>\n      <td>43.24</td>\n      <td>Rural</td>\n    </tr>\n    <tr>\n      <th>1</th>\n      <td>Andhra Pradesh</td>\n      <td>30-06-2019</td>\n      <td>Monthly</td>\n      <td>3.05</td>\n      <td>11755881.0</td>\n      <td>42.05</td>\n      <td>Rural</td>\n    </tr>\n    <tr>\n      <th>2</th>\n      <td>Andhra Pradesh</td>\n      <td>31-07-2019</td>\n      <td>Monthly</td>\n      <td>3.75</td>\n      <td>12086707.0</td>\n      <td>43.50</td>\n      <td>Rural</td>\n    </tr>\n    <tr>\n      <th>3</th>\n      <td>Andhra Pradesh</td>\n      <td>31-08-2019</td>\n      <td>Monthly</td>\n      <td>3.32</td>\n      <td>12285693.0</td>\n      <td>43.97</td>\n      <td>Rural</td>\n    </tr>\n    <tr>\n      <th>4</th>\n      <td>Andhra Pradesh</td>\n      <td>30-09-2019</td>\n      <td>Monthly</td>\n      <td>5.17</td>\n      <td>12256762.0</td>\n      <td>44.68</td>\n      <td>Rural</td>\n    </tr>\n  </tbody>\n</table>\n</div>"
          },
          "metadata": {}
        }
      ],
      "execution_count": 8
    },
    {
      "cell_type": "code",
      "source": "df.tail()",
      "metadata": {
        "trusted": true
      },
      "outputs": [
        {
          "execution_count": 9,
          "output_type": "execute_result",
          "data": {
            "text/plain": "    Region  Date  Frequency   Estimated Unemployment Rate (%)  \\\n763    NaN   NaN        NaN                               NaN   \n764    NaN   NaN        NaN                               NaN   \n765    NaN   NaN        NaN                               NaN   \n766    NaN   NaN        NaN                               NaN   \n767    NaN   NaN        NaN                               NaN   \n\n      Estimated Employed   Estimated Labour Participation Rate (%) Area  \n763                  NaN                                       NaN  NaN  \n764                  NaN                                       NaN  NaN  \n765                  NaN                                       NaN  NaN  \n766                  NaN                                       NaN  NaN  \n767                  NaN                                       NaN  NaN  ",
            "text/html": "<div>\n<style scoped>\n    .dataframe tbody tr th:only-of-type {\n        vertical-align: middle;\n    }\n\n    .dataframe tbody tr th {\n        vertical-align: top;\n    }\n\n    .dataframe thead th {\n        text-align: right;\n    }\n</style>\n<table border=\"1\" class=\"dataframe\">\n  <thead>\n    <tr style=\"text-align: right;\">\n      <th></th>\n      <th>Region</th>\n      <th>Date</th>\n      <th>Frequency</th>\n      <th>Estimated Unemployment Rate (%)</th>\n      <th>Estimated Employed</th>\n      <th>Estimated Labour Participation Rate (%)</th>\n      <th>Area</th>\n    </tr>\n  </thead>\n  <tbody>\n    <tr>\n      <th>763</th>\n      <td>NaN</td>\n      <td>NaN</td>\n      <td>NaN</td>\n      <td>NaN</td>\n      <td>NaN</td>\n      <td>NaN</td>\n      <td>NaN</td>\n    </tr>\n    <tr>\n      <th>764</th>\n      <td>NaN</td>\n      <td>NaN</td>\n      <td>NaN</td>\n      <td>NaN</td>\n      <td>NaN</td>\n      <td>NaN</td>\n      <td>NaN</td>\n    </tr>\n    <tr>\n      <th>765</th>\n      <td>NaN</td>\n      <td>NaN</td>\n      <td>NaN</td>\n      <td>NaN</td>\n      <td>NaN</td>\n      <td>NaN</td>\n      <td>NaN</td>\n    </tr>\n    <tr>\n      <th>766</th>\n      <td>NaN</td>\n      <td>NaN</td>\n      <td>NaN</td>\n      <td>NaN</td>\n      <td>NaN</td>\n      <td>NaN</td>\n      <td>NaN</td>\n    </tr>\n    <tr>\n      <th>767</th>\n      <td>NaN</td>\n      <td>NaN</td>\n      <td>NaN</td>\n      <td>NaN</td>\n      <td>NaN</td>\n      <td>NaN</td>\n      <td>NaN</td>\n    </tr>\n  </tbody>\n</table>\n</div>"
          },
          "metadata": {}
        }
      ],
      "execution_count": 9
    },
    {
      "cell_type": "code",
      "source": "# Data Analysis",
      "metadata": {
        "trusted": true
      },
      "outputs": [],
      "execution_count": 10
    },
    {
      "cell_type": "code",
      "source": "df.shape",
      "metadata": {
        "trusted": true
      },
      "outputs": [
        {
          "execution_count": 11,
          "output_type": "execute_result",
          "data": {
            "text/plain": "(768, 7)"
          },
          "metadata": {}
        }
      ],
      "execution_count": 11
    },
    {
      "cell_type": "code",
      "source": "df.info()",
      "metadata": {
        "trusted": true
      },
      "outputs": [
        {
          "name": "stdout",
          "text": "<class 'pandas.core.frame.DataFrame'>\nRangeIndex: 768 entries, 0 to 767\nData columns (total 7 columns):\n #   Column                                    Non-Null Count  Dtype  \n---  ------                                    --------------  -----  \n 0   Region                                    740 non-null    object \n 1    Date                                     740 non-null    object \n 2    Frequency                                740 non-null    object \n 3    Estimated Unemployment Rate (%)          740 non-null    float64\n 4    Estimated Employed                       740 non-null    float64\n 5    Estimated Labour Participation Rate (%)  740 non-null    float64\n 6   Area                                      740 non-null    object \ndtypes: float64(3), object(4)\nmemory usage: 30.1+ KB\n",
          "output_type": "stream"
        }
      ],
      "execution_count": 12
    },
    {
      "cell_type": "code",
      "source": "#Checking for null percentage\n\nround(df.isnull().sum()/df.shape[0]*100,2)",
      "metadata": {
        "trusted": true
      },
      "outputs": [
        {
          "execution_count": 13,
          "output_type": "execute_result",
          "data": {
            "text/plain": "Region                                      3.65\n Date                                       3.65\n Frequency                                  3.65\n Estimated Unemployment Rate (%)            3.65\n Estimated Employed                         3.65\n Estimated Labour Participation Rate (%)    3.65\nArea                                        3.65\ndtype: float64"
          },
          "metadata": {}
        }
      ],
      "execution_count": 13
    },
    {
      "cell_type": "code",
      "source": "# Delecting the null rows\n\ndf.dropna(inplace = True)\n\ndf.shape",
      "metadata": {
        "trusted": true
      },
      "outputs": [
        {
          "execution_count": 14,
          "output_type": "execute_result",
          "data": {
            "text/plain": "(740, 7)"
          },
          "metadata": {}
        }
      ],
      "execution_count": 14
    },
    {
      "cell_type": "code",
      "source": "#checking for null percentage\n\ndf.isnull().sum()/df.shape[0]",
      "metadata": {
        "trusted": true
      },
      "outputs": [
        {
          "execution_count": 15,
          "output_type": "execute_result",
          "data": {
            "text/plain": "Region                                      0.0\n Date                                       0.0\n Frequency                                  0.0\n Estimated Unemployment Rate (%)            0.0\n Estimated Employed                         0.0\n Estimated Labour Participation Rate (%)    0.0\nArea                                        0.0\ndtype: float64"
          },
          "metadata": {}
        }
      ],
      "execution_count": 15
    },
    {
      "cell_type": "code",
      "source": "# We shall rename the columns for easier access\ndf = df.rename(columns={' Date' : 'Date',' Frequency': 'Frequency' ,' Estimated Unemployment Rate (%)' : 'Est_Unemp_Rate', ' Estimated Employed' : 'Est_Emp_Rate',\n                          ' Estimated Labour Participation Rate (%)' : 'Est_Labour_Rate'}).reset_index(drop = True)\n\n\n# Rounding estimated employed column for a better visualizing\n\ndf['Est_Emp_Rate'] = round((df['Est_Emp_Rate']/1000000),2)\n\ndf.head()",
      "metadata": {
        "trusted": true
      },
      "outputs": [
        {
          "execution_count": 16,
          "output_type": "execute_result",
          "data": {
            "text/plain": "           Region         Date Frequency  Est_Unemp_Rate  Est_Emp_Rate  \\\n0  Andhra Pradesh   31-05-2019   Monthly            3.65         12.00   \n1  Andhra Pradesh   30-06-2019   Monthly            3.05         11.76   \n2  Andhra Pradesh   31-07-2019   Monthly            3.75         12.09   \n3  Andhra Pradesh   31-08-2019   Monthly            3.32         12.29   \n4  Andhra Pradesh   30-09-2019   Monthly            5.17         12.26   \n\n   Est_Labour_Rate   Area  \n0            43.24  Rural  \n1            42.05  Rural  \n2            43.50  Rural  \n3            43.97  Rural  \n4            44.68  Rural  ",
            "text/html": "<div>\n<style scoped>\n    .dataframe tbody tr th:only-of-type {\n        vertical-align: middle;\n    }\n\n    .dataframe tbody tr th {\n        vertical-align: top;\n    }\n\n    .dataframe thead th {\n        text-align: right;\n    }\n</style>\n<table border=\"1\" class=\"dataframe\">\n  <thead>\n    <tr style=\"text-align: right;\">\n      <th></th>\n      <th>Region</th>\n      <th>Date</th>\n      <th>Frequency</th>\n      <th>Est_Unemp_Rate</th>\n      <th>Est_Emp_Rate</th>\n      <th>Est_Labour_Rate</th>\n      <th>Area</th>\n    </tr>\n  </thead>\n  <tbody>\n    <tr>\n      <th>0</th>\n      <td>Andhra Pradesh</td>\n      <td>31-05-2019</td>\n      <td>Monthly</td>\n      <td>3.65</td>\n      <td>12.00</td>\n      <td>43.24</td>\n      <td>Rural</td>\n    </tr>\n    <tr>\n      <th>1</th>\n      <td>Andhra Pradesh</td>\n      <td>30-06-2019</td>\n      <td>Monthly</td>\n      <td>3.05</td>\n      <td>11.76</td>\n      <td>42.05</td>\n      <td>Rural</td>\n    </tr>\n    <tr>\n      <th>2</th>\n      <td>Andhra Pradesh</td>\n      <td>31-07-2019</td>\n      <td>Monthly</td>\n      <td>3.75</td>\n      <td>12.09</td>\n      <td>43.50</td>\n      <td>Rural</td>\n    </tr>\n    <tr>\n      <th>3</th>\n      <td>Andhra Pradesh</td>\n      <td>31-08-2019</td>\n      <td>Monthly</td>\n      <td>3.32</td>\n      <td>12.29</td>\n      <td>43.97</td>\n      <td>Rural</td>\n    </tr>\n    <tr>\n      <th>4</th>\n      <td>Andhra Pradesh</td>\n      <td>30-09-2019</td>\n      <td>Monthly</td>\n      <td>5.17</td>\n      <td>12.26</td>\n      <td>44.68</td>\n      <td>Rural</td>\n    </tr>\n  </tbody>\n</table>\n</div>"
          },
          "metadata": {}
        }
      ],
      "execution_count": 16
    },
    {
      "cell_type": "code",
      "source": "# Changing the dtype of 'Date' column\n\ndf['Date'] = pd.to_datetime(df['Date'])\n\ndf.info()",
      "metadata": {
        "trusted": true
      },
      "outputs": [
        {
          "name": "stdout",
          "text": "<class 'pandas.core.frame.DataFrame'>\nRangeIndex: 740 entries, 0 to 739\nData columns (total 7 columns):\n #   Column           Non-Null Count  Dtype         \n---  ------           --------------  -----         \n 0   Region           740 non-null    object        \n 1   Date             740 non-null    datetime64[ns]\n 2   Frequency        740 non-null    object        \n 3   Est_Unemp_Rate   740 non-null    float64       \n 4   Est_Emp_Rate     740 non-null    float64       \n 5   Est_Labour_Rate  740 non-null    float64       \n 6   Area             740 non-null    object        \ndtypes: datetime64[ns](1), float64(3), object(3)\nmemory usage: 31.9+ KB\n",
          "output_type": "stream"
        }
      ],
      "execution_count": 17
    },
    {
      "cell_type": "code",
      "source": "#checking if there are no duplicate rows in the data set \n\ndf.duplicated().sum()",
      "metadata": {
        "trusted": true
      },
      "outputs": [
        {
          "execution_count": 18,
          "output_type": "execute_result",
          "data": {
            "text/plain": "0"
          },
          "metadata": {}
        }
      ],
      "execution_count": 18
    },
    {
      "cell_type": "code",
      "source": "# Important to note that there is a typo in the 'Frequency' column\n\ndf.Frequency.value_counts()",
      "metadata": {
        "trusted": true
      },
      "outputs": [
        {
          "execution_count": 19,
          "output_type": "execute_result",
          "data": {
            "text/plain": "Monthly     381\n Monthly    359\nName: Frequency, dtype: int64"
          },
          "metadata": {}
        }
      ],
      "execution_count": 19
    },
    {
      "cell_type": "code",
      "source": "df.columns",
      "metadata": {
        "trusted": true
      },
      "outputs": [
        {
          "execution_count": 20,
          "output_type": "execute_result",
          "data": {
            "text/plain": "Index(['Region', 'Date', 'Frequency', 'Est_Unemp_Rate', 'Est_Emp_Rate',\n       'Est_Labour_Rate', 'Area'],\n      dtype='object')"
          },
          "metadata": {}
        }
      ],
      "execution_count": 20
    },
    {
      "cell_type": "code",
      "source": "df = df.drop(['Frequency'],axis = 1)\n\ndf.shape",
      "metadata": {
        "trusted": true
      },
      "outputs": [
        {
          "execution_count": 21,
          "output_type": "execute_result",
          "data": {
            "text/plain": "(740, 6)"
          },
          "metadata": {}
        }
      ],
      "execution_count": 21
    },
    {
      "cell_type": "code",
      "source": "#We shall create a new column for year and month to analyse the between 2019 and 2020\n\ndf['Year'] = df['Date'].dt.year\ndf['Month'] = df['Date'].dt.month\ndf.head()",
      "metadata": {
        "trusted": true
      },
      "outputs": [
        {
          "execution_count": 22,
          "output_type": "execute_result",
          "data": {
            "text/plain": "           Region       Date  Est_Unemp_Rate  Est_Emp_Rate  Est_Labour_Rate  \\\n0  Andhra Pradesh 2019-05-31            3.65         12.00            43.24   \n1  Andhra Pradesh 2019-06-30            3.05         11.76            42.05   \n2  Andhra Pradesh 2019-07-31            3.75         12.09            43.50   \n3  Andhra Pradesh 2019-08-31            3.32         12.29            43.97   \n4  Andhra Pradesh 2019-09-30            5.17         12.26            44.68   \n\n    Area  Year  Month  \n0  Rural  2019      5  \n1  Rural  2019      6  \n2  Rural  2019      7  \n3  Rural  2019      8  \n4  Rural  2019      9  ",
            "text/html": "<div>\n<style scoped>\n    .dataframe tbody tr th:only-of-type {\n        vertical-align: middle;\n    }\n\n    .dataframe tbody tr th {\n        vertical-align: top;\n    }\n\n    .dataframe thead th {\n        text-align: right;\n    }\n</style>\n<table border=\"1\" class=\"dataframe\">\n  <thead>\n    <tr style=\"text-align: right;\">\n      <th></th>\n      <th>Region</th>\n      <th>Date</th>\n      <th>Est_Unemp_Rate</th>\n      <th>Est_Emp_Rate</th>\n      <th>Est_Labour_Rate</th>\n      <th>Area</th>\n      <th>Year</th>\n      <th>Month</th>\n    </tr>\n  </thead>\n  <tbody>\n    <tr>\n      <th>0</th>\n      <td>Andhra Pradesh</td>\n      <td>2019-05-31</td>\n      <td>3.65</td>\n      <td>12.00</td>\n      <td>43.24</td>\n      <td>Rural</td>\n      <td>2019</td>\n      <td>5</td>\n    </tr>\n    <tr>\n      <th>1</th>\n      <td>Andhra Pradesh</td>\n      <td>2019-06-30</td>\n      <td>3.05</td>\n      <td>11.76</td>\n      <td>42.05</td>\n      <td>Rural</td>\n      <td>2019</td>\n      <td>6</td>\n    </tr>\n    <tr>\n      <th>2</th>\n      <td>Andhra Pradesh</td>\n      <td>2019-07-31</td>\n      <td>3.75</td>\n      <td>12.09</td>\n      <td>43.50</td>\n      <td>Rural</td>\n      <td>2019</td>\n      <td>7</td>\n    </tr>\n    <tr>\n      <th>3</th>\n      <td>Andhra Pradesh</td>\n      <td>2019-08-31</td>\n      <td>3.32</td>\n      <td>12.29</td>\n      <td>43.97</td>\n      <td>Rural</td>\n      <td>2019</td>\n      <td>8</td>\n    </tr>\n    <tr>\n      <th>4</th>\n      <td>Andhra Pradesh</td>\n      <td>2019-09-30</td>\n      <td>5.17</td>\n      <td>12.26</td>\n      <td>44.68</td>\n      <td>Rural</td>\n      <td>2019</td>\n      <td>9</td>\n    </tr>\n  </tbody>\n</table>\n</div>"
          },
          "metadata": {}
        }
      ],
      "execution_count": 22
    },
    {
      "cell_type": "code",
      "source": "#Analysing the Area column\n\ndf.Area.value_counts(normalize = True)*100",
      "metadata": {
        "trusted": true
      },
      "outputs": [
        {
          "execution_count": 23,
          "output_type": "execute_result",
          "data": {
            "text/plain": "Urban    51.486486\nRural    48.513514\nName: Area, dtype: float64"
          },
          "metadata": {}
        }
      ],
      "execution_count": 23
    },
    {
      "cell_type": "code",
      "source": "#Analyzing the Region column\ndf.Region.value_counts()",
      "metadata": {
        "trusted": true
      },
      "outputs": [
        {
          "execution_count": 24,
          "output_type": "execute_result",
          "data": {
            "text/plain": "Andhra Pradesh      28\nKerala              28\nWest Bengal         28\nUttar Pradesh       28\nTripura             28\nTelangana           28\nTamil Nadu          28\nRajasthan           28\nPunjab              28\nOdisha              28\nMadhya Pradesh      28\nMaharashtra         28\nKarnataka           28\nJharkhand           28\nHimachal Pradesh    28\nHaryana             28\nGujarat             28\nDelhi               28\nChhattisgarh        28\nBihar               28\nMeghalaya           27\nUttarakhand         27\nAssam               26\nPuducherry          26\nGoa                 24\nJammu & Kashmir     21\nSikkim              17\nChandigarh          12\nName: Region, dtype: int64"
          },
          "metadata": {}
        }
      ],
      "execution_count": 24
    },
    {
      "cell_type": "code",
      "source": "",
      "metadata": {
        "trusted": true
      },
      "outputs": [],
      "execution_count": null
    }
  ]
}